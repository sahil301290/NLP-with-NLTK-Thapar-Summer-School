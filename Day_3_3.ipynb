{
  "cells": [
    {
      "cell_type": "markdown",
      "metadata": {
        "id": "view-in-github",
        "colab_type": "text"
      },
      "source": [
        "<a href=\"https://colab.research.google.com/github/NitinAShelke/NLP-with-NLTK-Thapar-Summer-School/blob/main/Day_3_3.ipynb\" target=\"_parent\"><img src=\"https://colab.research.google.com/assets/colab-badge.svg\" alt=\"Open In Colab\"/></a>"
      ]
    },
    {
      "cell_type": "markdown",
      "metadata": {
        "id": "nBCAaWo_oUUe"
      },
      "source": [
        "# Sentiment Analysis \n",
        "\n",
        "#### by Nitin Arvind Shelke"
      ]
    },
    {
      "cell_type": "markdown",
      "metadata": {
        "id": "Spel6LuNoUUh"
      },
      "source": [
        "# TextBlob\n",
        "It is a simple python library that offers API access to different NLP tasks such as sentiment analysis, spelling correction, etc.\n",
        "\n",
        "Textblob sentiment analyzer returns two properties for a given input sentence: \n",
        "\n",
        "Polarity is a float that lies between [-1,1], -1 indicates negative sentiment and +1 indicates positive sentiments. \n",
        "Subjectivity is also a float which lies in the range of [0,1]. Subjective sentences generally refer to personal opinion, emotion, or judgment. \n",
        "\n",
        "\n",
        "Textblob will ignore the words that it doesn’t know, it will consider words and phrases that it can assign polarity to and averages to get the final score."
      ]
    },
    {
      "cell_type": "code",
      "execution_count": null,
      "metadata": {
        "id": "RgbAa61OoUUi"
      },
      "outputs": [],
      "source": [
        "from textblob import TextBlob\n",
        "print(TextBlob(\"I love pizza\").sentiment)\n",
        "print(TextBlob(\"The weather is excellent\").sentiment)\n",
        "print(TextBlob(\"What a terrible thing to say\").sentiment)"
      ]
    },
    {
      "cell_type": "markdown",
      "metadata": {
        "id": "KmuACY_DoUUj"
      },
      "source": [
        "# VADER sentiment\n",
        "\n",
        "Valence aware dictionary for sentiment reasoning (VADER) is another popular rule-based sentiment analyzer. \n",
        "\n",
        "It uses a list of lexical features (e.g. word) which are labeled as positive or negative according to their semantic orientation to calculate the text sentiment.   \n",
        "\n",
        "Vader sentiment returns the probability of a given input sentence to be \n",
        "\n",
        "Positive, negative, and neutral. \n",
        "\n"
      ]
    },
    {
      "cell_type": "code",
      "execution_count": null,
      "metadata": {
        "id": "zHIpWET_oUUk"
      },
      "outputs": [],
      "source": [
        "from vaderSentiment.vaderSentiment import SentimentIntensityAnalyzer\n",
        "analyser = SentimentIntensityAnalyzer()\n",
        "\n",
        "print(analyser.polarity_scores(\"This book is very good\"))\n",
        "print(analyser.polarity_scores(\"OMG! The book is so cool\"))\n",
        "print(analyser.polarity_scores(\"The food was great !\"))"
      ]
    },
    {
      "cell_type": "markdown",
      "metadata": {
        "id": "4WeYLT5NoUUk"
      },
      "source": [
        "Vader is optimized for social media data and can yield good results when used with data from twitter, facebook, etc.\n",
        "\n",
        "The main drawback with the rule-based approach for sentiment analysis is that the method only cares about individual words and completely ignores the context in which it is used. \n",
        "\n",
        "For example, “the party was savage” will be negative when considered by any token-based algorithms."
      ]
    },
    {
      "cell_type": "markdown",
      "metadata": {
        "id": "-Zn0d_jMoUUl"
      },
      "source": [
        "# Flair \n",
        "\n",
        "Text embeddings are a form of word representation in NLP in which synonymically similar words are represented using similar vectors which when represented in an n-dimensional space will be close to each other.\n",
        "\n",
        "Embedding based python packages use this form of text representation to predict text sentiments. This leads to better text representation in NLP and yields better model performance.\n",
        "\n",
        "One of such packages is Flair.    "
      ]
    },
    {
      "cell_type": "markdown",
      "metadata": {
        "id": "Bo6U7jnooUUm"
      },
      "source": [
        "Flair is a simple to use framework for state of the art NLP. \n",
        "\n",
        "It provided various functionalities such as:\n",
        "\n",
        "pre-trained sentiment analysis models, \n",
        "\n",
        "text embeddings,\n",
        "\n",
        "NER, \n",
        "\n",
        "and more."
      ]
    },
    {
      "cell_type": "code",
      "execution_count": null,
      "metadata": {
        "id": "HGVXncOXoUUm"
      },
      "outputs": [],
      "source": [
        "from flair.models import TextClassifier\n",
        "from flair.data import Sentence\n",
        "\n",
        "classifier = TextClassifier.load('en-sentiment')\n",
        "sentence = Sentence('The food was great!')\n",
        "classifier.predict(sentence)\n",
        "\n",
        "# print sentence with predicted labels\n",
        "print('Sentence above is: ', sentence.labels)"
      ]
    },
    {
      "cell_type": "code",
      "execution_count": null,
      "metadata": {
        "id": "7S_YXQRjoUUn"
      },
      "outputs": [],
      "source": [
        "!pip install flair"
      ]
    },
    {
      "cell_type": "markdown",
      "metadata": {
        "id": "BObGVd7BoUUn"
      },
      "source": [
        "###### Example: Twitter sentiment analysis with Python"
      ]
    },
    {
      "cell_type": "markdown",
      "metadata": {
        "id": "dnhEYgKLoUUo"
      },
      "source": [
        "Here is the link to the Colab notebook.\n",
        "\n",
        "https://colab.research.google.com/drive/1tUr5t0ZJ-I4Ni40dkbjku92HAU5SyR_2?usp=sharing"
      ]
    }
  ],
  "metadata": {
    "kernelspec": {
      "display_name": "Python 3",
      "language": "python",
      "name": "python3"
    },
    "language_info": {
      "codemirror_mode": {
        "name": "ipython",
        "version": 3
      },
      "file_extension": ".py",
      "mimetype": "text/x-python",
      "name": "python",
      "nbconvert_exporter": "python",
      "pygments_lexer": "ipython3",
      "version": "3.6.5"
    },
    "colab": {
      "name": "Day_3_3.ipynb",
      "provenance": [],
      "include_colab_link": true
    }
  },
  "nbformat": 4,
  "nbformat_minor": 0
}