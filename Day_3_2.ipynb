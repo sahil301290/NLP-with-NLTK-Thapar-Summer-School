{
  "cells": [
    {
      "cell_type": "markdown",
      "metadata": {
        "id": "view-in-github",
        "colab_type": "text"
      },
      "source": [
        "<a href=\"https://colab.research.google.com/github/NitinAShelke/NLP-with-NLTK-Thapar-Summer-School/blob/main/Day_3_2.ipynb\" target=\"_parent\"><img src=\"https://colab.research.google.com/assets/colab-badge.svg\" alt=\"Open In Colab\"/></a>"
      ]
    },
    {
      "cell_type": "markdown",
      "metadata": {
        "id": "_8CEFml-fNT1"
      },
      "source": [
        "# Web Scrapping "
      ]
    },
    {
      "cell_type": "code",
      "execution_count": 1,
      "metadata": {
        "id": "YoOeDClxfNT5"
      },
      "outputs": [],
      "source": [
        "from urllib import request"
      ]
    },
    {
      "cell_type": "code",
      "execution_count": 2,
      "metadata": {
        "id": "n7hEewXLfNT7"
      },
      "outputs": [],
      "source": [
        "url = \"https://en.wikipedia.org/wiki/Artificial_intelligence\""
      ]
    },
    {
      "cell_type": "code",
      "execution_count": null,
      "metadata": {
        "id": "pdsdpJMFfNT7"
      },
      "outputs": [],
      "source": [
        "html = request.urlopen(url).read().decode('utf8')\n"
      ]
    },
    {
      "cell_type": "code",
      "execution_count": null,
      "metadata": {
        "id": "audCfKwhfNT8"
      },
      "outputs": [],
      "source": [
        "html[:60]\n"
      ]
    },
    {
      "cell_type": "code",
      "execution_count": null,
      "metadata": {
        "id": "871GN-3bfNT8"
      },
      "outputs": [],
      "source": [
        "print(html)\n"
      ]
    },
    {
      "cell_type": "code",
      "execution_count": null,
      "metadata": {
        "id": "5IqXsX_YfNT9"
      },
      "outputs": [],
      "source": [
        "# To get text out of HTML we will use a Python library called BeautifulSoup\n",
        "\n",
        "from bs4 import BeautifulSoup\n",
        "raw = BeautifulSoup(html, 'html.parser').get_text()\n",
        "print(raw)"
      ]
    },
    {
      "cell_type": "code",
      "execution_count": null,
      "metadata": {
        "id": "AmZmuF5TfNT9"
      },
      "outputs": [],
      "source": [
        "import nltk\n",
        "tokens = nltk.word_tokenize(raw)\n"
      ]
    },
    {
      "cell_type": "code",
      "execution_count": null,
      "metadata": {
        "id": "5MXqBlLLfNT-"
      },
      "outputs": [],
      "source": [
        "tokens"
      ]
    },
    {
      "cell_type": "markdown",
      "metadata": {
        "id": "58XKBhr6fNT-"
      },
      "source": [
        "# Case Study "
      ]
    },
    {
      "cell_type": "code",
      "execution_count": null,
      "metadata": {
        "id": "TLDEkyasfNT_"
      },
      "outputs": [],
      "source": [
        "import requests\n",
        "from bs4 import BeautifulSoup\n",
        "import pandas as pd\n",
        "\n",
        "titles = []\n",
        "prices = []\n",
        "ratings = []\n",
        "url = 'https://webscraper.io/test-sites/e-commerce/allinone/computers/laptops'\n",
        "request = requests.get(url)\n",
        "soup = BeautifulSoup(request.text, \"html.parser\")\n",
        "for product in soup.find_all('div', {'class': 'col-sm-4 col-lg-4 col-md-4'}):\n",
        "    for pr in product.find_all('div', {'class': 'caption'}):\n",
        "        for p in pr.find_all('h4', {'class': 'pull-right price'}):\n",
        "            prices.append(p.text)\n",
        "        for title in pr.find_all('a' , {'title'}):\n",
        "            titles.append(title.get('title'))\n",
        "    for rt in product.find_all('div', {'class': 'ratings'}):\n",
        "        ratings.append(len(rt.find_all('span', {'class': 'glyphicon glyphicon-star'})))\n",
        "\n",
        "\n",
        "#build dataframe and export to csv            \n",
        "product_df = pd.DataFrame(zip(titles,prices,ratings), columns =['Titles', 'Prices', 'Ratings'])  \n",
        "product_df.head()\n",
        "product_df.to_csv(\"ecommerce.csv\",index=False)"
      ]
    },
    {
      "cell_type": "code",
      "execution_count": null,
      "metadata": {
        "id": "adIVN6s4fNT_"
      },
      "outputs": [],
      "source": [
        "data=pd.read_csv('ecommerce.csv')\n",
        "data.head()"
      ]
    },
    {
      "cell_type": "code",
      "execution_count": null,
      "metadata": {
        "id": "g2exVpvzfNUA"
      },
      "outputs": [],
      "source": [
        ""
      ]
    }
  ],
  "metadata": {
    "kernelspec": {
      "display_name": "Python 3",
      "language": "python",
      "name": "python3"
    },
    "language_info": {
      "codemirror_mode": {
        "name": "ipython",
        "version": 3
      },
      "file_extension": ".py",
      "mimetype": "text/x-python",
      "name": "python",
      "nbconvert_exporter": "python",
      "pygments_lexer": "ipython3",
      "version": "3.6.5"
    },
    "colab": {
      "name": "Day 3_2.ipynb",
      "provenance": [],
      "include_colab_link": true
    }
  },
  "nbformat": 4,
  "nbformat_minor": 0
}